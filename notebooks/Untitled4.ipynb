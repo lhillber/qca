{
 "cells": [
  {
   "cell_type": "code",
   "execution_count": 171,
   "metadata": {},
   "outputs": [],
   "source": [
    "import sys\n",
    "sys.path.append(\"../\")  # look one directory up for qca modules, TODO: make a package\n",
    "from matrix import listkron, ops\n",
    "import matplotlib.pyplot as plt\n",
    "import numpy as np\n",
    "from scipy.linalg import expm\n",
    "from states import make_state\n",
    "from measures import get_rhoj, get_rhojk, get_expectation\n",
    "hx = 5\n",
    "hz = 20\n",
    "J = 10\n",
    "L = 9\n",
    "T = 100"
   ]
  },
  {
   "cell_type": "code",
   "execution_count": 172,
   "metadata": {},
   "outputs": [
    {
     "name": "stdout",
     "output_type": "stream",
     "text": [
      "[1]\n",
      "[0, 2]\n",
      "[1, 3]\n",
      "[2, 4]\n",
      "[3, 5]\n",
      "[4, 6]\n",
      "[5, 7]\n",
      "[8, 6]\n",
      "[7]\n"
     ]
    }
   ],
   "source": [
    "X, Z, ZZ = 0, 0, 0\n",
    "for j in range(L):\n",
    "    Xstr = [\"I\"]*L\n",
    "    Zstr = [\"I\"]*L\n",
    "    Xstr[j] = \"X\"\n",
    "    Zstr[j] = \"Z\"\n",
    "    X += listkron([ops[o] for o in Xstr])\n",
    "    Z += listkron([ops[o] for o in Zstr])\n",
    "    N = list(set([max(j-1, 0), min(L-1, j+1)]))\n",
    "    N = [l for l in N if l!=j]\n",
    "    print(N)\n",
    "    for k in N:\n",
    "        ZZstr = [\"I\"]*L\n",
    "        ZZstr[j] = \"Z\"\n",
    "        ZZstr[k] = \"Z\"\n",
    "        ZZ += listkron([ops[o] for o in ZZstr])\n",
    "H = hx * X + hz * Z + J/2 * ZZ\n",
    "U = expm(-1j*H*0.05*np.pi)"
   ]
  },
  {
   "cell_type": "code",
   "execution_count": 173,
   "metadata": {},
   "outputs": [],
   "source": [
    "psi = make_state(L, \"c1_f0\")\n",
    "psis = np.zeros((T+1, len(psi)), dtype=complex)\n",
    "psis[0] = psi\n",
    "for t in range(1, T+1):\n",
    "    psi = U.dot(psi)\n",
    "    psis[t] = psi"
   ]
  },
  {
   "cell_type": "code",
   "execution_count": 174,
   "metadata": {},
   "outputs": [],
   "source": [
    "rhojs = np.array([get_rhoj(psi) for psi in psis])\n",
    "Zexps = np.array([get_expectation(rhoj, ops[\"Z\"]) for rhoj in rhojs])"
   ]
  },
  {
   "cell_type": "code",
   "execution_count": 177,
   "metadata": {},
   "outputs": [
    {
     "data": {
      "text/plain": [
       "<matplotlib.image.AxesImage at 0x7f869d9d19a0>"
      ]
     },
     "execution_count": 177,
     "metadata": {},
     "output_type": "execute_result"
    },
    {
     "data": {
      "image/png": "[encoded data removed]",
      "text/plain": [
       "<Figure size 432x288 with 1 Axes>"
      ]
     },
     "metadata": {
      "needs_background": "light"
     },
     "output_type": "display_data"
    }
   ],
   "source": [
    "plt.imshow(Zexps[::3], origin=\"lower\")"
   ]
  },
  {
   "cell_type": "code",
   "execution_count": null,
   "metadata": {},
   "outputs": [],
   "source": []
  }
 ],
 "metadata": {
  "kernelspec": {
   "display_name": "Python 3",
   "language": "python",
   "name": "python3"
  },
  "language_info": {
   "codemirror_mode": {
    "name": "ipython",
    "version": 3
   },
   "file_extension": ".py",
   "mimetype": "text/x-python",
   "name": "python",
   "nbconvert_exporter": "python",
   "pygments_lexer": "ipython3",
   "version": "3.9.1"
  },
  "toc": {
   "base_numbering": 1,
   "nav_menu": {},
   "number_sections": true,
   "sideBar": true,
   "skip_h1_title": false,
   "title_cell": "Table of Contents",
   "title_sidebar": "Contents",
   "toc_cell": false,
   "toc_position": {},
   "toc_section_display": true,
   "toc_window_display": false
  }
 },
 "nbformat": 4,
 "nbformat_minor": 4
}
