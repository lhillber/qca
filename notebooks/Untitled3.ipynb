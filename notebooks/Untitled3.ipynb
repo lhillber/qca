{
 "cells": [
  {
   "cell_type": "code",
   "execution_count": 1,
   "metadata": {},
   "outputs": [],
   "source": [
    "import sys\n",
    "sys.path.append(\"../\")  # look one directory up for qca modules, TODO: make a package\n",
    "from copy import copy\n",
    "from qca import QCA, QCA_from_file\n",
    "from states import make_state\n",
    "from mpl_toolkits import mplot3d\n",
    "from matplotlib import cm\n",
    "from scipy.optimize import curve_fit\n",
    "from os import makedirs\n",
    "import matplotlib.pyplot as plt\n",
    "import measures as ms\n",
    "import numpy as np\n",
    "from matplotlib.patches import Patch\n",
    "from figures import colors, names, lettering, powerlaw_fit, draw_MI\n",
    "\n",
    "%matplotlib inline\n",
    "\n",
    "from matplotlib import rc\n",
    "fontstyle = {\n",
    "    \"pdf.fonttype\": 42,\n",
    "    \"text.usetex\": True,\n",
    "    \"text.latex.preamble\":r\"\\usepackage{amsfonts}\",\n",
    "    \"font.family\": \"serif\",\n",
    "    \"font.size\": 9}\n",
    "plt.rcParams.update(fontstyle)\n",
    "rc(\"text\", usetex=True)\n",
    "rc('mathtext', default='regular')\n",
    "der = r\"/home/lhillber/documents/research/cellular_automata/qeca/qca/data/\"\n"
   ]
  },
  {
   "cell_type": "code",
   "execution_count": 2,
   "metadata": {},
   "outputs": [
    {
     "data": {
      "text/plain": [
       "<matplotlib.legend.Legend at 0x7ff91c4616d0>"
      ]
     },
     "execution_count": 2,
     "metadata": {},
     "output_type": "execute_result"
    },
    {
     "data": {
      "image/png": "[encoded data removed]",
      "text/plain": [
       "<Figure size 432x288 with 1 Axes>"
      ]
     },
     "metadata": {
      "needs_background": "light"
     },
     "output_type": "display_data"
    }
   ],
   "source": [
    "x = np.geomspace(1e-3, 1e3, 100)\n",
    "y = x**2\n",
    "fig, ax = plt.subplots(1,1)\n",
    "ax.plot(x,y,label=r\"$T_1$\")\n",
    "ax.set_xlabel(\"$x$ axis\")\n",
    "ax.set_ylabel(\"$y$ axis\")\n",
    "from matplotlib.patches import Patch\n",
    "legend_el = Patch(facecolor=\"C0\", edgecolor=None, label=names[1])\n",
    "ax.legend(handles=[legend_el])"
   ]
  },
  {
   "cell_type": "code",
   "execution_count": 3,
   "metadata": {},
   "outputs": [
    {
     "data": {
      "text/plain": [
       "[<matplotlib.lines.Line2D at 0x7ff8faf614c0>]"
      ]
     },
     "execution_count": 3,
     "metadata": {},
     "output_type": "execute_result"
    },
    {
     "data": {
      "image/png": "[encoded data removed]",
      "text/plain": [
       "<Figure size 432x288 with 1 Axes>"
      ]
     },
     "metadata": {
      "needs_background": "light"
     },
     "output_type": "display_data"
    }
   ],
   "source": [
    "fig, ax = plt.subplots(1,1)\n",
    "legend_els = [Patch(facecolor=colors[R], edgecolor=None, label=names[R]) for R in [6,4,1,14,26]]\n",
    "legend_els.append(Patch(facecolor=colors[\"R\"], edgecolor=None, label=names[\"R\"]))\n",
    "ax.legend(handles=legend_els,\n",
    "                        loc=\"lower left\",\n",
    "                        bbox_to_anchor=[0.0, 0.98],\n",
    "                        frameon=False,\n",
    "                        markerfirst=False,\n",
    "                        ncol=6,\n",
    "                        columnspacing=1,\n",
    "                        handletextpad=0.3,\n",
    "                        handlelength=0.7)\n",
    "ax.plot((1,2,3))"
   ]
  },
  {
   "cell_type": "code",
   "execution_count": null,
   "metadata": {},
   "outputs": [],
   "source": []
  }
 ],
 "metadata": {
  "kernelspec": {
   "display_name": "Python 3",
   "language": "python",
   "name": "python3"
  },
  "language_info": {
   "codemirror_mode": {
    "name": "ipython",
    "version": 3
   },
   "file_extension": ".py",
   "mimetype": "text/x-python",
   "name": "python",
   "nbconvert_exporter": "python",
   "pygments_lexer": "ipython3",
   "version": "3.9.1"
  },
  "toc": {
   "base_numbering": 1,
   "nav_menu": {},
   "number_sections": true,
   "sideBar": true,
   "skip_h1_title": false,
   "title_cell": "Table of Contents",
   "title_sidebar": "Contents",
   "toc_cell": false,
   "toc_position": {},
   "toc_section_display": true,
   "toc_window_display": false
  }
 },
 "nbformat": 4,
 "nbformat_minor": 4
}
