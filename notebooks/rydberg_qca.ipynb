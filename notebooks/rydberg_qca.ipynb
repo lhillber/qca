{
 "cells": [
  {
   "cell_type": "code",
   "execution_count": 1,
   "id": "painted-company",
   "metadata": {},
   "outputs": [],
   "source": [
    "import sys\n",
    "sys.path.append(\"../\")  # look one directory up for qca modules, TODO: make a package\n",
    "from copy import copy\n",
    "from qca import QCA\n",
    "from states import make_state\n",
    "from mpl_toolkits import mplot3d\n",
    "from matplotlib import cm\n",
    "from scipy.optimize import curve_fit\n",
    "from os import makedirs\n",
    "import matplotlib.pyplot as plt\n",
    "import measures as ms\n",
    "import numpy as np\n",
    "%matplotlib inline\n",
    "\n",
    "\n",
    "from matplotlib import rc\n",
    "fontstyle = {\n",
    "    \"pdf.fonttype\": 42,\n",
    "    \"text.usetex\": True,\n",
    "    \"text.latex.preamble\":r\"\\usepackage{amsfonts}\",\n",
    "    \"font.family\": \"serif\",\n",
    "    \"axes.labelsize\": 9,\n",
    "    'axes.titlesize': 9,\n",
    "    \"font.size\": 9,\n",
    "    \"legend.fontsize\": 9,\n",
    "    \"xtick.labelsize\": 9,\n",
    "    \"ytick.labelsize\": 9,\n",
    "}\n",
    "plt.rcParams.update(fontstyle)\n",
    "rc('mathtext', default='regular')\n",
    "rc(\"text\", usetex=True)"
   ]
  },
  {
   "cell_type": "code",
   "execution_count": 2,
   "id": "satellite-partner",
   "metadata": {},
   "outputs": [],
   "source": [
    "from matrix import ops, listkron, isherm, op_on_state\n",
    "from measures import get_rhoj, init_rhoj, get_expectation\n",
    "from states import make_state, bvecs\n",
    "from scipy.linalg import expm"
   ]
  },
  {
   "cell_type": "code",
   "execution_count": 3,
   "id": "artistic-canon",
   "metadata": {},
   "outputs": [],
   "source": [
    "def iterate(psi, Uj, ts):\n",
    "    psi = listkron([bvecs[\"0\"], psi, bvecs[\"0\"]])\n",
    "    L = int(np.log2(len(psi)))\n",
    "    yield psi\n",
    "    for t in range(len(ts)-1):\n",
    "        for p in (1, 0):\n",
    "            for j in range(1, L-1):\n",
    "                Nj = [(j-1)%L, j, (j+1)%L]\n",
    "                if j%2 == p:\n",
    "                    psi = op_on_state(Uj, Nj, psi)\n",
    "        yield psi\n"
   ]
  },
  {
   "cell_type": "code",
   "execution_count": 14,
   "id": "rental-papua",
   "metadata": {},
   "outputs": [],
   "source": [
    "Omega = 2\n",
    "V = 863e3/(5.4)**6\n",
    "Delta = -1*V\n",
    "dt = 0.1\n",
    "L = 11\n",
    "T = 100\n",
    "\n",
    "ts = np.arange(0, T+dt, dt)\n",
    "\n",
    "\n",
    "O1 = \"IXI\"\n",
    "O2 = \"I1I\"\n",
    "O3a = \"I11\"\n",
    "O3b = \"11I\"\n",
    "\n",
    "Os = [O1, O2, O3a, O3b]\n",
    "fs = [Omega/2, Delta, V/2, V/2]\n",
    "\n",
    "Hj = np.zeros((2**3, 2**3), dtype=complex)\n",
    "\n",
    "for f, O in zip(fs, Os):\n",
    "    Hj += f*listkron(ops[o] for o in O)\n",
    "    \n",
    "    \n",
    "    \n",
    "    \n",
    "Uj = expm(-1j*dt*Hj)\n",
    "\n",
    "psi0 =  make_state(L,\"c3_f1\")\n",
    "\n",
    "rhoj = init_rhoj(L+2, len(ts))\n",
    "\n",
    "for ti, psi in enumerate(iterate(psi0, Uj, ts)):\n",
    "    rhoj[ti] = get_rhoj(psi)\n",
    "            \n",
    "            \n",
    "            "
   ]
  },
  {
   "cell_type": "code",
   "execution_count": 18,
   "metadata": {},
   "outputs": [],
   "source": [
    "def Vfunc(j, k):\n",
    "    d = np.abs(j - k)\n",
    "    return 863e3 / (5.4 * d)**6"
   ]
  },
  {
   "cell_type": "code",
   "execution_count": 3,
   "metadata": {},
   "outputs": [],
   "source": [
    "def iterate_full(psi, U, ts):\n",
    "    #psi = listkron([bvecs[\"0\"], psi, bvecs[\"0\"]])\n",
    "    yield psi\n",
    "    for t in range(len(ts)-1):\n",
    "        psi = U.dot(psi)\n",
    "        yield psi"
   ]
  },
  {
   "cell_type": "code",
   "execution_count": 36,
   "metadata": {},
   "outputs": [],
   "source": [
    "Omega = 2\n",
    "Delta = -1*Vfunc(1, 2)\n",
    "dt = 1\n",
    "L = 11\n",
    "T = 100\n",
    "\n",
    "n = \"1\"  # 1 = |1><1|,  0 = |0><0|\n",
    "\n",
    "H = np.zeros((2**L, 2**L), dtype=complex)\n",
    "for j in range(L):\n",
    "    str1 = [\"I\"]*L\n",
    "    str2 = [\"I\"]*L\n",
    "    str1[j] = \"X\"\n",
    "    str2[j] = n\n",
    "    OP1 = Omega/2 * listkron([ops[o] for o in str1])\n",
    "    OP2 = Delta * listkron([ops[o] for o in str2])\n",
    "    H += OP1\n",
    "    H += OP2\n",
    "    for k in range(j+1, L):\n",
    "        str3= [\"I\"]*L\n",
    "        if np.abs(j - k) <= 2:\n",
    "            str3[j] = n\n",
    "            str3[k] = n\n",
    "            OP3 = Vfunc(j, k) * listkron([ops[o] for o in str3])\n",
    "            H += OP3\n",
    "\n",
    "            \n",
    "U = expm(-1j * dt * H)\n",
    "ts = np.arange(0, T+dt, dt)"
   ]
  },
  {
   "cell_type": "code",
   "execution_count": 37,
   "metadata": {},
   "outputs": [],
   "source": [
    "psi0 =  make_state(L,\"c3_f1\")\n",
    "rhoj = init_rhoj(L, len(ts))\n",
    "for ti, psi in enumerate(iterate_full(psi0, U, ts)):\n",
    "    rhoj[ti] = get_rhoj(psi)"
   ]
  },
  {
   "cell_type": "code",
   "execution_count": 15,
   "id": "multiple-lawyer",
   "metadata": {},
   "outputs": [],
   "source": [
    "exp_z = np.array([get_expectation(rho, ops[\"Z\"]) for rho in rhoj])"
   ]
  },
  {
   "cell_type": "code",
   "execution_count": 16,
   "id": "preliminary-catch",
   "metadata": {},
   "outputs": [
    {
     "data": {
      "text/plain": [
       "<matplotlib.image.AxesImage at 0x7f1dad0936d0>"
      ]
     },
     "execution_count": 16,
     "metadata": {},
     "output_type": "execute_result"
    },
    {
     "data": {
      "image/png": "[encoded data removed]",
      "text/plain": [
       "<Figure size 7200x1152 with 1 Axes>"
      ]
     },
     "metadata": {
      "needs_background": "light"
     },
     "output_type": "display_data"
    }
   ],
   "source": [
    "fig, ax = plt.subplots(1,1,figsize=(100, 16))\n",
    "plt.imshow(exp_z[::10], origin=\"lower\", cmap=\"inferno_r\", clim=[-1, 1])"
   ]
  },
  {
   "cell_type": "code",
   "execution_count": 19,
   "id": "known-constitutional",
   "metadata": {},
   "outputs": [
    {
     "data": {
      "text/plain": [
       "34.80552883200763"
      ]
     },
     "execution_count": 19,
     "metadata": {},
     "output_type": "execute_result"
    }
   ],
   "source": [
    "Vfunc(1,2)"
   ]
  },
  {
   "cell_type": "code",
   "execution_count": null,
   "metadata": {},
   "outputs": [],
   "source": []
  }
 ],
 "metadata": {
  "kernelspec": {
   "display_name": "Python 3",
   "language": "python",
   "name": "python3"
  },
  "language_info": {
   "codemirror_mode": {
    "name": "ipython",
    "version": 3
   },
   "file_extension": ".py",
   "mimetype": "text/x-python",
   "name": "python",
   "nbconvert_exporter": "python",
   "pygments_lexer": "ipython3",
   "version": "3.9.1"
  },
  "toc": {
   "base_numbering": 1,
   "nav_menu": {},
   "number_sections": true,
   "sideBar": true,
   "skip_h1_title": false,
   "title_cell": "Table of Contents",
   "title_sidebar": "Contents",
   "toc_cell": false,
   "toc_position": {},
   "toc_section_display": true,
   "toc_window_display": false
  }
 },
 "nbformat": 4,
 "nbformat_minor": 5
}
