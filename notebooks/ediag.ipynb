{
 "cells": [
  {
   "cell_type": "markdown",
   "id": "supreme-butler",
   "metadata": {},
   "source": [
    "# Exact diagonalization of QCA hamiltonians"
   ]
  },
  {
   "cell_type": "code",
   "execution_count": 21,
   "id": "systematic-browse",
   "metadata": {},
   "outputs": [],
   "source": [
    "import numpy as np\n",
    "import matplotlib.pyplot as plt\n",
    "import scipy.linalg\n",
    "import scipy.sparse\n",
    "import scipy.sparse.linalg"
   ]
  },
  {
   "cell_type": "markdown",
   "id": "civilian-germany",
   "metadata": {},
   "source": [
    "# A few references\n",
    "\n",
    "Bit twiddling in Python\n",
    "+ https://wiki.python.org/moin/BitwiseOperators\n",
    "+ https://wiki.python.org/moin/BitManipulation\n",
    "\n",
    "Exact diagonalization\n",
    "+ https://arxiv.org/abs/1101.3281\n",
    "+ https://github.com/awietek/ed_basics\n",
    "\n",
    "Quantum scars\n",
    "+ https://arxiv.org/pdf/1711.03528.pdf\n",
    "+ https://arxiv.org/pdf/1806.10933.pdf"
   ]
  },
  {
   "cell_type": "markdown",
   "id": "measured-taxation",
   "metadata": {},
   "source": [
    "# Bit-wise functions on a ring of L bits"
   ]
  },
  {
   "cell_type": "code",
   "execution_count": 26,
   "id": "compressed-foundation",
   "metadata": {},
   "outputs": [],
   "source": [
    "# NOTE, L must be less than or equal to 32 throughout for s represented as a 32-bit int\n",
    "\n",
    "def tobin(s, L):\n",
    "    '''Expand the base-10 integer s into L bits of binary'''\n",
    "    return [s >> y & 1 for y in range(L-1, -1, -1)]\n",
    "\n",
    "def flip(s, j, L):\n",
    "    '''Flip bit j of s'''\n",
    "    return s ^ (1 << (L-1-j))\n",
    "\n",
    "\n",
    "def invert(s, L):\n",
    "    '''Invert all the bits of s'''\n",
    "    return s ^ ((1<<L)-1)\n",
    "\n",
    "\n",
    "def reverse(s, L):\n",
    "    '''Reverse the bits of s'''\n",
    "    result = 0\n",
    "    for i in range(L):\n",
    "        result <<= 1\n",
    "        result |= s & 1\n",
    "        s >>= 1\n",
    "    return result\n",
    "\n",
    "\n",
    "def cycleN(s, N, L):\n",
    "    '''Cycle s to the left by N bits on a ring'''\n",
    "    smax = (1<<L)-1\n",
    "    l = (N+L)%L\n",
    "    s1 = (s >> (L- l))\n",
    "    s2 = ((s << l) & smax)\n",
    "    return (s2 | s1)\n",
    "\n",
    "\n",
    "def representative(s, L):\n",
    "    '''\n",
    "    Convert s to its representative under translational symmetry. \n",
    "    Also returns the number of translations connecting s to its representative.\n",
    "    '''\n",
    "    r = s\n",
    "    l = 0\n",
    "    for i in range(L):\n",
    "        t = cycleN(s, i, L)\n",
    "        if t < r: # Convention, use the lowest integer in a cycle as the representative\n",
    "            r=t\n",
    "            l=i\n",
    "    return r, l\n",
    "\n",
    "\n",
    "def neighbors(s, j, L):\n",
    "    '''Read bits j-1 and j+1 of s'''\n",
    "    hood = 0\n",
    "    lb = (L-1 - (j-1)) % L\n",
    "    rb = (L-1 - (j+1)) % L\n",
    "    if s & (1 << lb):\n",
    "        hood += 2\n",
    "    if s & (1 << rb):\n",
    "        hood += 1\n",
    "    return hood\n",
    "\n",
    "\n",
    "def Hj(s, j, R, L):\n",
    "    '''Return QCA rule R applied to s at bit j'''\n",
    "    if R & (1 << neighbors(s, j, L)):\n",
    "        return flip(s, j, L)\n",
    "    else:\n",
    "        return None"
   ]
  },
  {
   "cell_type": "markdown",
   "id": "olympic-admission",
   "metadata": {},
   "source": [
    "# A few checks"
   ]
  },
  {
   "cell_type": "code",
   "execution_count": 27,
   "id": "clinical-pitch",
   "metadata": {},
   "outputs": [
    {
     "name": "stdout",
     "output_type": "stream",
     "text": [
      "0 [0, 0, 0] 2 [0, 1, 0]\n",
      "1 [0, 0, 1] 3 [0, 1, 1]\n",
      "2 [0, 1, 0] 0 [0, 0, 0]\n",
      "3 [0, 1, 1] 1 [0, 0, 1]\n",
      "4 [1, 0, 0] 6 [1, 1, 0]\n",
      "5 [1, 0, 1] 7 [1, 1, 1]\n",
      "6 [1, 1, 0] 4 [1, 0, 0]\n",
      "7 [1, 1, 1] 5 [1, 0, 1]\n"
     ]
    }
   ],
   "source": [
    "# Check flip\n",
    "L = 3\n",
    "j = 1\n",
    "for s in range(2**L):\n",
    "    sprime = flip(s, j, L)\n",
    "    print(s, tobin(s,L), sprime, tobin(sprime,L))"
   ]
  },
  {
   "cell_type": "code",
   "execution_count": 28,
   "id": "fleet-colonial",
   "metadata": {},
   "outputs": [
    {
     "name": "stdout",
     "output_type": "stream",
     "text": [
      "0 [0, 0, 0] 7 [1, 1, 1]\n",
      "1 [0, 0, 1] 6 [1, 1, 0]\n",
      "2 [0, 1, 0] 5 [1, 0, 1]\n",
      "3 [0, 1, 1] 4 [1, 0, 0]\n",
      "4 [1, 0, 0] 3 [0, 1, 1]\n",
      "5 [1, 0, 1] 2 [0, 1, 0]\n",
      "6 [1, 1, 0] 1 [0, 0, 1]\n",
      "7 [1, 1, 1] 0 [0, 0, 0]\n"
     ]
    }
   ],
   "source": [
    "# Check invert\n",
    "L =3\n",
    "for s in range(2**L):\n",
    "    sprime = invert(s,L)\n",
    "    print(s, tobin(s,L), sprime, tobin(sprime,L))"
   ]
  },
  {
   "cell_type": "code",
   "execution_count": 29,
   "id": "modified-recruitment",
   "metadata": {},
   "outputs": [
    {
     "name": "stdout",
     "output_type": "stream",
     "text": [
      "0 [0, 0, 0] 0 [0, 0, 0]\n",
      "1 [0, 0, 1] 4 [1, 0, 0]\n",
      "2 [0, 1, 0] 2 [0, 1, 0]\n",
      "3 [0, 1, 1] 6 [1, 1, 0]\n",
      "4 [1, 0, 0] 1 [0, 0, 1]\n",
      "5 [1, 0, 1] 5 [1, 0, 1]\n",
      "6 [1, 1, 0] 3 [0, 1, 1]\n",
      "7 [1, 1, 1] 7 [1, 1, 1]\n"
     ]
    }
   ],
   "source": [
    "# Check reverse\n",
    "L =3\n",
    "for s in range(2**L):\n",
    "    sprime = reverse(s,L)\n",
    "    print(s, tobin(s,L), sprime, tobin(sprime,L))"
   ]
  },
  {
   "cell_type": "code",
   "execution_count": 30,
   "id": "threaded-review",
   "metadata": {},
   "outputs": [
    {
     "name": "stdout",
     "output_type": "stream",
     "text": [
      "0 [0, 0, 0] 0 [0, 0, 0]\n",
      "1 [0, 0, 1] 2 [0, 1, 0]\n",
      "2 [0, 1, 0] 4 [1, 0, 0]\n",
      "3 [0, 1, 1] 6 [1, 1, 0]\n",
      "4 [1, 0, 0] 1 [0, 0, 1]\n",
      "5 [1, 0, 1] 3 [0, 1, 1]\n",
      "6 [1, 1, 0] 5 [1, 0, 1]\n",
      "7 [1, 1, 1] 7 [1, 1, 1]\n"
     ]
    }
   ],
   "source": [
    "# Check cycle\n",
    "L = 3\n",
    "N = 1 # number of bits to cycle left, can be negative to cycle right\n",
    "for s in range(2**L):\n",
    "    sprime = cycleN(s, N, L)\n",
    "    print(s, tobin(s,L), sprime, tobin(sprime,L))\n",
    "    "
   ]
  },
  {
   "cell_type": "code",
   "execution_count": 31,
   "id": "monthly-harvest",
   "metadata": {},
   "outputs": [
    {
     "name": "stdout",
     "output_type": "stream",
     "text": [
      "0 [0, 0, 0] 0 [0, 0, 0]\n",
      "1 [0, 0, 1] 1 [0, 0, 1]\n",
      "2 [0, 1, 0] 1 [0, 0, 1]\n",
      "3 [0, 1, 1] 3 [0, 1, 1]\n",
      "4 [1, 0, 0] 1 [0, 0, 1]\n",
      "5 [1, 0, 1] 3 [0, 1, 1]\n",
      "6 [1, 1, 0] 3 [0, 1, 1]\n",
      "7 [1, 1, 1] 7 [1, 1, 1]\n"
     ]
    }
   ],
   "source": [
    "# Check reresentative\n",
    "L = 3\n",
    "for s in range(2**L):\n",
    "    sprime, l = representative(s, L)\n",
    "    print(s, tobin(s, L), sprime, tobin(sprime, 3))"
   ]
  },
  {
   "cell_type": "code",
   "execution_count": 32,
   "id": "informal-touch",
   "metadata": {},
   "outputs": [
    {
     "name": "stdout",
     "output_type": "stream",
     "text": [
      "0 [0, 0, 0] 0 [0, 0]\n",
      "1 [0, 0, 1] 1 [0, 1]\n",
      "2 [0, 1, 0] 0 [0, 0]\n",
      "3 [0, 1, 1] 1 [0, 1]\n",
      "4 [1, 0, 0] 2 [1, 0]\n",
      "5 [1, 0, 1] 3 [1, 1]\n",
      "6 [1, 1, 0] 2 [1, 0]\n",
      "7 [1, 1, 1] 3 [1, 1]\n"
     ]
    }
   ],
   "source": [
    "# Check neighbors\n",
    "L = 3\n",
    "j = 1\n",
    "for s in range(2**L):\n",
    "    sprime = neighbors(s, j, L)\n",
    "    print(s, tobin(s,L), sprime, tobin(sprime, 2))"
   ]
  },
  {
   "cell_type": "code",
   "execution_count": 33,
   "id": "sweet-basket",
   "metadata": {},
   "outputs": [
    {
     "name": "stdout",
     "output_type": "stream",
     "text": [
      "0 [0, 0, 0] 2 [0, 1, 0]\n",
      "1 [0, 0, 1] None None\n",
      "2 [0, 1, 0] 0 [0, 0, 0]\n",
      "3 [0, 1, 1] None None\n",
      "4 [1, 0, 0] None None\n",
      "5 [1, 0, 1] None None\n",
      "6 [1, 1, 0] None None\n",
      "7 [1, 1, 1] None None\n"
     ]
    }
   ],
   "source": [
    "# Check Hj\n",
    "L = 3\n",
    "R = 1\n",
    "j = 1\n",
    "for s in range(2**L):\n",
    "    sprime = Hj(s, j, R, L)\n",
    "    if sprime is None:\n",
    "        out = None\n",
    "    else:\n",
    "        out = tobin(sprime,L)\n",
    "    print(s, tobin(s,L), sprime, out)"
   ]
  },
  {
   "cell_type": "code",
   "execution_count": 34,
   "id": "ideal-generation",
   "metadata": {},
   "outputs": [],
   "source": [
    "def k_basis(k, L):\n",
    "    '''Get the k-momentum basis states for a ring of size L'''\n",
    "    basis = []\n",
    "    norms = [] \n",
    "    for s in range(2**L):\n",
    "        r, l = representative(s, L)\n",
    "        if s == r:\n",
    "            amp = 0\n",
    "            for i in range(L):\n",
    "                sprime = cycleN(s, i, L)\n",
    "                if sprime == s:\n",
    "                    if i == 0:\n",
    "                        R = L\n",
    "                    else:\n",
    "                        R = i\n",
    "                    amp += np.exp(1j*2*np.pi*k/L*i)\n",
    "            norm = np.sqrt(np.abs(amp))\n",
    "            if norm > 1e-7:\n",
    "                basis.append(s)\n",
    "                norms.append(norm) \n",
    "    return basis, norms"
   ]
  },
  {
   "cell_type": "markdown",
   "id": "healthy-franchise",
   "metadata": {},
   "source": [
    "# Hamiltonian construction"
   ]
  },
  {
   "cell_type": "code",
   "execution_count": 38,
   "id": "romance-assignment",
   "metadata": {},
   "outputs": [],
   "source": [
    "def Hblock(k, R, L):\n",
    "    '''Construct the k-momentum block of the Rule-R QCA Hamiltonian'''\n",
    "    basis, norms = k_basis(k, L)\n",
    "    D = len(basis)\n",
    "    H = np.zeros((D, D), dtype=complex)\n",
    "    for ai, a in enumerate(basis):\n",
    "        for j in range(L):\n",
    "            bprime = Hj(a, j, R, L)\n",
    "            if bprime is not None:\n",
    "                b, lb = representative(bprime, L)\n",
    "                \n",
    "                #NOTE: Wehy the try-except? Shouldn't Hj keep s in the same momentum block?\n",
    "                # Getting the right spectrum\n",
    "                try:\n",
    "                    bi = basis.index(b)\n",
    "                except:\n",
    "                    continue\n",
    "                    \n",
    "                val = norms[bi]/norms[ai] * np.exp(-1j* 2*np.pi * k * lb / L)\n",
    "                H[ai, bi] += val\n",
    "    return H\n",
    "            "
   ]
  },
  {
   "cell_type": "code",
   "execution_count": 39,
   "id": "classical-adelaide",
   "metadata": {},
   "outputs": [],
   "source": [
    "def Hblocks(L, R):\n",
    "    '''Calculate all k-momentum blocks of the Rule-R QCA Hamiltonian'''\n",
    "    Hs = []\n",
    "    for k in range(L):\n",
    "        Hs.append(Hblock(k, R, L))\n",
    "    return Hs"
   ]
  },
  {
   "cell_type": "code",
   "execution_count": 40,
   "id": "arctic-bobby",
   "metadata": {},
   "outputs": [],
   "source": [
    "def fullH(L, R):\n",
    "    '''Calculate the full many-body hamiltonian in the computational basis with periodic boundary condidions.'''\n",
    "    D = 2**L\n",
    "    basis = range(D)\n",
    "    H = np.zeros((D, D), dtype=complex)\n",
    "    for a in basis:\n",
    "        for j in range(L):\n",
    "            b = Hj(a, j, R, L)\n",
    "            if b is not None:\n",
    "                H[a, b] += 1\n",
    "    return H\n",
    "            "
   ]
  },
  {
   "cell_type": "code",
   "execution_count": 41,
   "id": "drawn-district",
   "metadata": {},
   "outputs": [],
   "source": [
    "# Check that we get the correct spectuem\n",
    "L = 8\n",
    "R = 1  # R = 0, 1, 2, ... 15\n",
    "Hblocked = scipy.linalg.block_diag(*Hblocks(L, R))\n",
    "H = fullH(L, R)"
   ]
  },
  {
   "cell_type": "code",
   "execution_count": 42,
   "id": "polyphonic-oxide",
   "metadata": {},
   "outputs": [
    {
     "data": {
      "text/plain": [
       "<matplotlib.image.AxesImage at 0x7f079f062b20>"
      ]
     },
     "execution_count": 42,
     "metadata": {},
     "output_type": "execute_result"
    },
    {
     "data": {
      "image/png": "[encoded data removed]",
      "text/plain": [
       "<Figure size 432x288 with 1 Axes>"
      ]
     },
     "metadata": {
      "needs_background": "light"
     },
     "output_type": "display_data"
    }
   ],
   "source": [
    "plt.imshow(np.abs(H))"
   ]
  },
  {
   "cell_type": "code",
   "execution_count": 43,
   "id": "pharmaceutical-bicycle",
   "metadata": {},
   "outputs": [
    {
     "data": {
      "text/plain": [
       "<matplotlib.image.AxesImage at 0x7f079f037d30>"
      ]
     },
     "execution_count": 43,
     "metadata": {},
     "output_type": "execute_result"
    },
    {
     "data": {
      "image/png": "[encoded data removed]",
      "text/plain": [
       "<Figure size 432x288 with 1 Axes>"
      ]
     },
     "metadata": {
      "needs_background": "light"
     },
     "output_type": "display_data"
    }
   ],
   "source": [
    "plt.imshow(np.abs(Hblocked))"
   ]
  },
  {
   "cell_type": "code",
   "execution_count": 17,
   "id": "sized-history",
   "metadata": {},
   "outputs": [
    {
     "data": {
      "text/plain": [
       "[<matplotlib.lines.Line2D at 0x7f06a7a71490>]"
      ]
     },
     "execution_count": 17,
     "metadata": {},
     "output_type": "execute_result"
    },
    {
     "data": {
      "image/png": "[encoded data removed]",
      "text/plain": [
       "<Figure size 432x288 with 1 Axes>"
      ]
     },
     "metadata": {
      "needs_background": "light"
     },
     "output_type": "display_data"
    }
   ],
   "source": [
    "e1 = np.linalg.eigvalsh(H)\n",
    "e2 = np.linalg.eigvalsh(Hblocked)\n",
    "plt.plot(e1, marker='o', ls=\"none\")\n",
    "plt.plot(e2, marker=\".\", ls=\"none\")\n"
   ]
  },
  {
   "cell_type": "code",
   "execution_count": 18,
   "id": "variable-technician",
   "metadata": {},
   "outputs": [
    {
     "data": {
      "text/plain": [
       "[<matplotlib.lines.Line2D at 0x7f06a79cb3a0>]"
      ]
     },
     "execution_count": 18,
     "metadata": {},
     "output_type": "execute_result"
    },
    {
     "data": {
      "image/png": "[encoded data removed]",
      "text/plain": [
       "<Figure size 432x288 with 1 Axes>"
      ]
     },
     "metadata": {
      "needs_background": "light"
     },
     "output_type": "display_data"
    }
   ],
   "source": [
    "plt.plot(np.abs(e2-e1))"
   ]
  },
  {
   "cell_type": "code",
   "execution_count": 19,
   "id": "adjustable-potter",
   "metadata": {},
   "outputs": [
    {
     "data": {
      "image/png": "[encoded data removed]",
      "text/plain": [
       "<Figure size 364.5x288 with 4 Axes>"
      ]
     },
     "metadata": {
      "needs_background": "light"
     },
     "output_type": "display_data"
    }
   ],
   "source": [
    "from matplotlib import rc\n",
    "fontstyle = {\n",
    "    \"pdf.fonttype\": 42,\n",
    "    \"text.usetex\": True,\n",
    "    \"text.latex.preamble\":r\"\\usepackage{amsfonts}\",\n",
    "    \"font.family\": \"serif\",\n",
    "    \"axes.labelsize\": 9,\n",
    "    'axes.titlesize': 9,\n",
    "    \"font.size\": 9,\n",
    "    \"legend.fontsize\": 9,\n",
    "    \"xtick.labelsize\": 9,\n",
    "    \"ytick.labelsize\": 9,\n",
    "}\n",
    "plt.rcParams.update(fontstyle)\n",
    "rc('mathtext', default='regular')\n",
    "rc(\"text\", usetex=True)\n",
    "\n",
    "\n",
    "der = r\"/home/lhillber/documents/research/cellular_automata/qca/data/\"\n",
    "\n",
    "L = 6\n",
    "R = 1\n",
    "Hblocked = scipy.linalg.block_diag(*Hblocks(L, R))\n",
    "H = fullH(L, R)\n",
    "e1 = np.linalg.eigvalsh(H)\n",
    "e2 = np.linalg.eigvalsh(Hblocked)\n",
    "\n",
    "\n",
    "fig, axs = plt.subplots(2,2, figsize=(3.375*1.5, 4))\n",
    "axs[0,0].imshow(np.abs(H)>0, cmap=\"Greys\")\n",
    "axs[0,0].set_title(\"$H$\")\n",
    "axs[0,0].set_xticks([0, 32, 64])\n",
    "axs[0,0].set_yticks([0, 32, 64])\n",
    "axs[0,0].xaxis.tick_top()\n",
    "\n",
    "\n",
    "axs[0,1].imshow(np.abs(Hblocked)>0, cmap=\"Greys\")\n",
    "axs[0,1].set_title(\"$H$ block diag.\")\n",
    "axs[0,1].set_xticks([0, 32, 64])\n",
    "axs[0,1].set_yticks([0, 32, 64])\n",
    "axs[0,1].xaxis.tick_top()\n",
    "\n",
    "\n",
    "axs[1,0].plot(e1, marker='o', ls=\"none\", label=\"$H$\")\n",
    "axs[1,0].plot(e2, marker=\".\", ls=\"none\", label=\"$H$ block diag.\")\n",
    "axs[1,0].legend()\n",
    "axs[1,0].set_xticks([0, 32, 64])\n",
    "axs[1,0].set_ylabel(\"Eigenenergy $E_i$\")\n",
    "axs[1,0].set_xlabel(\"Index $i$\")\n",
    "\n",
    "axs[1,1].plot(np.abs(e2-e1), c=\"k\", marker=\".\")\n",
    "axs[1,1].set_xticks([0, 32, 64])\n",
    "axs[1,1].set_xlabel(\"Absolute difference\")\n",
    "axs[1,1].set_xlabel(\"Index $i$\")\n",
    "\n",
    "plt.tight_layout()\n",
    "plt.savefig(\"figures/T_1-Kblocks.pdf\", dpi=1000)\n"
   ]
  },
  {
   "cell_type": "markdown",
   "id": "hindu-mounting",
   "metadata": {},
   "source": [
    "# Todo\n",
    "\n",
    "+ Include reflection or spin-inversion symmetry\n",
    "+ Build Hamiltonian in sparse matrix format (coo should be easy)\n",
    "+ Extract energy eigenstates of the full system using the blocks\n",
    "+ Quantum scars in QCA -- overlap of energy eigenstates with |Z2> = |01010...> vs eigenenergy\n",
    "    + Prediction: All odd rule numbers will show scars. So will rule 8.\n",
    "+ Quantum scars with other |Zn> states\n",
    "+ ETH predictions\n",
    "+ Gap ratio statistics"
   ]
  },
  {
   "cell_type": "code",
   "execution_count": null,
   "id": "reverse-arabic",
   "metadata": {},
   "outputs": [],
   "source": [
    "Hblock |psi_1> |psi_2> |"
   ]
  },
  {
   "cell_type": "code",
   "execution_count": null,
   "id": "computational-habitat",
   "metadata": {},
   "outputs": [],
   "source": []
  },
  {
   "cell_type": "code",
   "execution_count": 80,
   "id": "fantastic-blanket",
   "metadata": {},
   "outputs": [],
   "source": [
    "L=8\n",
    "import sys\n",
    "sys.path.append(\"../\")\n",
    "from matrix import dec_to_bin, listkron, dagger, isU, isherm\n",
    "from states import bvecs\n",
    "from numpy.linalg import matrix_power\n",
    "\n",
    "def PI2(L):\n",
    "    PI2 = 0\n",
    "    for i in range(2**L):\n",
    "        S = dec_to_bin(i, L)\n",
    "        Sr = np.roll(S, 1)\n",
    "        PI2 += np.outer(listkron([bvecs[str(s)] for s in S]),\n",
    "                       listkron([bvecs[str(s)] for s in Sr]))\n",
    "    return PI2\n",
    "\n",
    "\n",
    "def proj_k(k, L):\n",
    "    N = L\n",
    "    Pk = 0\n",
    "    pi2 = PI2(L)\n",
    "    for x in range(N):\n",
    "        Pk += np.exp(2*np.pi * 1j * k / N) * matrix_power(pi2, x) / N\n",
    "        #PI2x = PI2x.dot(PI2)\n",
    "    return Pk\n",
    "\n",
    "def Q_xform(k, L):\n",
    "    Pk = proj_k(k, L)\n",
    "    Q = []\n",
    "    for i in range(2**L):\n",
    "        S = dec_to_bin(i, L)\n",
    "        psi_i = listkron([bvecs[str(s)] for s in S])\n",
    "        psi_i_prime = Pk.dot(psi_i)\n",
    "        norm = np.conj(psi_i_prime).dot(psi_i_prime)\n",
    "        psi_i = psi_i_prime / np.sqrt(norm)\n",
    "        \n",
    "        if i in (0, 1):\n",
    "            Q.append(psi_i)\n",
    "        \n",
    "        else:\n",
    "            if not np.any(np.all(psi_i == Q, axis=1)):\n",
    "                Q.append(psi_i)\n",
    "    return np.array(Q).T"
   ]
  },
  {
   "cell_type": "code",
   "execution_count": 81,
   "id": "likely-saver",
   "metadata": {},
   "outputs": [],
   "source": [
    "k = 0\n",
    "L=8\n",
    "from core1d import rule_hamiltonian\n",
    "H = rule_hamiltonian(V=\"X\", R=1, L=L, r=1, BC=\"0\")\n",
    "H = fullH(L,1)\n",
    "Q = Q_xform(k, L)\n",
    "Hk = np.linalg.multi_dot([dagger(Q), H, Q])\n",
    "Hb = Hblock(k, 1, L)"
   ]
  },
  {
   "cell_type": "code",
   "execution_count": 82,
   "id": "protecting-spokesman",
   "metadata": {},
   "outputs": [
    {
     "data": {
      "text/plain": [
       "<matplotlib.image.AxesImage at 0x7f079e932910>"
      ]
     },
     "execution_count": 82,
     "metadata": {},
     "output_type": "execute_result"
    },
    {
     "data": {
      "image/png": "[encoded data removed]",
      "text/plain": [
       "<Figure size 432x288 with 1 Axes>"
      ]
     },
     "metadata": {
      "needs_background": "light"
     },
     "output_type": "display_data"
    }
   ],
   "source": [
    "plt.imshow(np.abs(Hb))"
   ]
  },
  {
   "cell_type": "code",
   "execution_count": 83,
   "id": "sound-serial",
   "metadata": {},
   "outputs": [
    {
     "data": {
      "text/plain": [
       "<matplotlib.image.AxesImage at 0x7f079e90ba00>"
      ]
     },
     "execution_count": 83,
     "metadata": {},
     "output_type": "execute_result"
    },
    {
     "data": {
      "image/png": "[encoded data removed]",
      "text/plain": [
       "<Figure size 432x288 with 1 Axes>"
      ]
     },
     "metadata": {
      "needs_background": "light"
     },
     "output_type": "display_data"
    }
   ],
   "source": [
    "plt.imshow(np.abs(Hk))"
   ]
  },
  {
   "cell_type": "code",
   "execution_count": 84,
   "id": "introductory-italian",
   "metadata": {},
   "outputs": [
    {
     "data": {
      "text/plain": [
       "((36, 36), (36, 36))"
      ]
     },
     "execution_count": 84,
     "metadata": {},
     "output_type": "execute_result"
    }
   ],
   "source": [
    "Hk.shape, Hb.shape"
   ]
  },
  {
   "cell_type": "code",
   "execution_count": 85,
   "id": "catholic-equilibrium",
   "metadata": {},
   "outputs": [],
   "source": [
    "ea = np.linalg.eigvalsh(Hblock(k, 1, L))\n",
    "eb = np.linalg.eigvalsh(Hk)"
   ]
  },
  {
   "cell_type": "code",
   "execution_count": 86,
   "id": "tamil-acquisition",
   "metadata": {},
   "outputs": [
    {
     "data": {
      "text/plain": [
       "[<matplotlib.lines.Line2D at 0x7f079e8e4fa0>]"
      ]
     },
     "execution_count": 86,
     "metadata": {},
     "output_type": "execute_result"
    },
    {
     "data": {
      "image/png": "[encoded data removed]",
      "text/plain": [
       "<Figure size 432x288 with 1 Axes>"
      ]
     },
     "metadata": {
      "needs_background": "light"
     },
     "output_type": "display_data"
    }
   ],
   "source": [
    "plt.plot(ea)\n",
    "plt.plot(eb)"
   ]
  },
  {
   "cell_type": "code",
   "execution_count": null,
   "id": "descending-hello",
   "metadata": {},
   "outputs": [],
   "source": []
  }
 ],
 "metadata": {
  "kernelspec": {
   "display_name": "Python 3",
   "language": "python",
   "name": "python3"
  },
  "language_info": {
   "codemirror_mode": {
    "name": "ipython",
    "version": 3
   },
   "file_extension": ".py",
   "mimetype": "text/x-python",
   "name": "python",
   "nbconvert_exporter": "python",
   "pygments_lexer": "ipython3",
   "version": "3.9.2"
  },
  "toc": {
   "base_numbering": 1,
   "nav_menu": {},
   "number_sections": true,
   "sideBar": true,
   "skip_h1_title": false,
   "title_cell": "Table of Contents",
   "title_sidebar": "Contents",
   "toc_cell": false,
   "toc_position": {},
   "toc_section_display": true,
   "toc_window_display": false
  }
 },
 "nbformat": 4,
 "nbformat_minor": 5
}
