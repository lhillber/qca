{
 "cells": [
  {
   "cell_type": "code",
   "execution_count": 1,
   "metadata": {},
   "outputs": [],
   "source": [
    "import sys\n",
    "sys.path.append(\"../\")  # look one directory up for qca modules, TODO: make a package\n",
    "from copy import copy\n",
    "from qca import QCA\n",
    "from states import make_state\n",
    "from mpl_toolkits import mplot3d\n",
    "from matplotlib import cm\n",
    "from scipy.optimize import curve_fit\n",
    "from os import makedirs\n",
    "import matplotlib.pyplot as plt\n",
    "import measures as ms\n",
    "import numpy as np\n",
    "%matplotlib inline\n",
    "der=r\"/home/lhillber/documents/research/cellular_automata/qeca/qca/data/\""
   ]
  },
  {
   "cell_type": "code",
   "execution_count": 2,
   "metadata": {},
   "outputs": [],
   "source": [
    "import qca\n",
    "import core\n",
    "import matrix\n",
    "from importlib import reload\n",
    "reload(qca)\n",
    "reload(core)\n",
    "reload(matrix)\n",
    "from qca import QCA"
   ]
  },
  {
   "cell_type": "code",
   "execution_count": 3,
   "metadata": {},
   "outputs": [],
   "source": [
    "params_template = dict(\n",
    "              L=15,\n",
    "              T=100.0,\n",
    "              dt=1.0,\n",
    "              R=6,\n",
    "              r=1,\n",
    "              V=\"H\",\n",
    "              BC=\"1-00\",\n",
    "              IC=\"c1_f0\",\n",
    "              E=0.0,\n",
    "              N=1,\n",
    "              totalistic=False,\n",
    "              hamiltonian=False,\n",
    "              trotter=True,\n",
    "              symmetric=False)\n",
    "\n",
    "params = copy(params_template) \n",
    "\n",
    "Q = QCA(params, der=der)\n",
    "    \n",
    "Q.run(tasks=[\"rhoj\", \"rhojk\"], verbose=False)"
   ]
  },
  {
   "cell_type": "code",
   "execution_count": 4,
   "metadata": {},
   "outputs": [
    {
     "data": {
      "text/plain": [
       "[<matplotlib.lines.Line2D at 0x7f0df626d2e0>]"
      ]
     },
     "execution_count": 4,
     "metadata": {},
     "output_type": "execute_result"
    },
    {
     "data": {
      "image/png": "[encoded data removed]",
      "text/plain": [
       "<Figure size 432x288 with 1 Axes>"
      ]
     },
     "metadata": {
      "needs_background": "light"
     },
     "output_type": "display_data"
    }
   ],
   "source": [
    "plt.plot(Q.Y(1)[:60])\n",
    "plt.plot(Q.C(1)[:60])"
   ]
  },
  {
   "cell_type": "code",
   "execution_count": 5,
   "metadata": {},
   "outputs": [],
   "source": [
    "import qca\n",
    "import core\n",
    "import matrix\n",
    "from importlib import reload\n",
    "reload(qca)\n",
    "reload(core)\n",
    "reload(matrix)\n",
    "from qca import QCA\n",
    "\n",
    "from states import make_state\n",
    "from matrix import rdm, ptranspose\n"
   ]
  },
  {
   "cell_type": "code",
   "execution_count": 6,
   "metadata": {},
   "outputs": [
    {
     "name": "stdout",
     "output_type": "stream",
     "text": [
      "True\n",
      "True\n"
     ]
    }
   ],
   "source": [
    "s = make_state(5, \"R\")\n",
    "print( \n",
    "    np.allclose(\n",
    "        rdm(s, [1,3]),\n",
    "        ptranspose(rdm(s, [3,1]), [1,0]) \n",
    "        )\n",
    "    )\n",
    " \n",
    "\n",
    "s = make_state(6, \"R\")\n",
    "print(\n",
    "    np.allclose(rdm(rdm(s, [1,2,5]), [0,2]),\n",
    "                rdm(s, [1,5]))\n",
    ")"
   ]
  },
  {
   "cell_type": "code",
   "execution_count": null,
   "metadata": {},
   "outputs": [],
   "source": []
  },
  {
   "cell_type": "code",
   "execution_count": null,
   "metadata": {},
   "outputs": [],
   "source": []
  },
  {
   "cell_type": "code",
   "execution_count": null,
   "metadata": {},
   "outputs": [],
   "source": []
  },
  {
   "cell_type": "code",
   "execution_count": 7,
   "metadata": {},
   "outputs": [],
   "source": [
    "from matrix import listkron\n",
    "from core1d import rule_hamiltonian\n",
    "from numpy.linalg import eigh\n",
    "from scipy.linalg import expm\n",
    "from measures import get_expectation, get_rhoj, expectation\n",
    "from matrix import ops\n",
    "\n",
    "\n",
    "H = rule_hamiltonian(V=\"X\", R=5, L=6, r=1, BC=\"0\")\n",
    "initstate = make_state(6, \"f2\")\n",
    "vals, vecs  = eigh(H)\n"
   ]
  },
  {
   "cell_type": "code",
   "execution_count": null,
   "metadata": {},
   "outputs": [],
   "source": []
  },
  {
   "cell_type": "code",
   "execution_count": 8,
   "metadata": {},
   "outputs": [],
   "source": [
    "L=8\n",
    "H = rule_hamiltonian(V=\"X\", R=14, L=L, r=1, BC=\"0\")\n",
    "initstate = make_state(L, \"r1\")\n",
    "vals, vecs  = eigh(H)\n",
    "\n",
    "initstate_eng = np.dot(np.conj(vecs).T, initstate)\n",
    "A = matrix.op_at(\"Z\", 0, L)\n",
    "Aeng = (vecs.T).dot(A).dot(vecs)\n",
    "\n",
    "diag = sum(np.abs(C)**2 * Aeng[a,a] for a, C in enumerate(initstate_eng)).real\n",
    "\n",
    "\n",
    "E0 = expectation(initstate, H)\n",
    "Emx = np.max(np.abs(vals-E0))\n",
    "Emn = np.min(np.abs(vals-E0))\n",
    "dEs = np.linspace(1e-2+Emn,Emx,20)\n",
    "microcanons = [np.mean([Aeng[a,a]\n",
    "                        for a, Ea in enumerate(vals) \n",
    "                            if np.abs(Ea-E0)<=dE]).real \n",
    "               for dE in dEs]\n",
    "\n",
    "canonicals = []\n",
    "for kT in dEs:\n",
    "    ebH = expm(-H/kT)\n",
    "    part = np.trace(ebH)\n",
    "    thstate = ebH / part\n",
    "    canonicals.append(expectation(thstate, A))\n",
    "\n",
    "\n"
   ]
  },
  {
   "cell_type": "code",
   "execution_count": 9,
   "metadata": {},
   "outputs": [
    {
     "data": {
      "text/plain": [
       "<matplotlib.lines.Line2D at 0x7f0e3c753df0>"
      ]
     },
     "execution_count": 9,
     "metadata": {},
     "output_type": "execute_result"
    },
    {
     "data": {
      "image/png": "[encoded data removed]",
      "text/plain": [
       "<Figure size 432x288 with 1 Axes>"
      ]
     },
     "metadata": {
      "needs_background": "light"
     },
     "output_type": "display_data"
    }
   ],
   "source": [
    "plt.plot(dEs, canonicals, marker=\"o\",label)\n",
    "plt.plot(dEs, microcanons, marker=\"v\")\n",
    "plt.axhline(diag, c=\"k\")"
   ]
  },
  {
   "cell_type": "code",
   "execution_count": null,
   "metadata": {},
   "outputs": [],
   "source": []
  }
 ],
 "metadata": {
  "kernelspec": {
   "display_name": "Python 3",
   "language": "python",
   "name": "python3"
  },
  "language_info": {
   "codemirror_mode": {
    "name": "ipython",
    "version": 3
   },
   "file_extension": ".py",
   "mimetype": "text/x-python",
   "name": "python",
   "nbconvert_exporter": "python",
   "pygments_lexer": "ipython3",
   "version": "3.9.1"
  },
  "toc": {
   "base_numbering": 1,
   "nav_menu": {},
   "number_sections": true,
   "sideBar": true,
   "skip_h1_title": false,
   "title_cell": "Table of Contents",
   "title_sidebar": "Contents",
   "toc_cell": false,
   "toc_position": {},
   "toc_section_display": true,
   "toc_window_display": false
  }
 },
 "nbformat": 4,
 "nbformat_minor": 4
}
