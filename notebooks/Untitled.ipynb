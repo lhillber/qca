{
 "cells": [
  {
   "cell_type": "code",
   "execution_count": 40,
   "metadata": {},
   "outputs": [],
   "source": [
    "import sys\n",
    "sys.path.append(\"../\")  # look one directory up for qca modules, TODO: make a package\n",
    "from copy import copy\n",
    "from qca import QCA\n",
    "from states import make_state\n",
    "from mpl_toolkits import mplot3d\n",
    "from matplotlib import cm\n",
    "from scipy.optimize import curve_fit\n",
    "from os import makedirs\n",
    "import matplotlib.pyplot as plt\n",
    "import measures as ms\n",
    "import numpy as np\n",
    "%matplotlib inline\n",
    "\n",
    "\n",
    "from matplotlib import rc\n",
    "fontstyle = {\n",
    "    \"pdf.fonttype\": 42,\n",
    "    \"text.usetex\": True,\n",
    "    \"text.latex.preamble\":r\"\\usepackage{amsfonts}\",\n",
    "    \"font.family\": \"serif\",\n",
    "    \"axes.labelsize\": 9,\n",
    "    'axes.titlesize': 9,\n",
    "    \"font.size\": 9,\n",
    "    \"legend.fontsize\": 9,\n",
    "    \"xtick.labelsize\": 9,\n",
    "    \"ytick.labelsize\": 9,\n",
    "}\n",
    "plt.rcParams.update(fontstyle)\n",
    "rc('mathtext', default='regular')\n",
    "rc(\"text\", usetex=True)"
   ]
  },
  {
   "cell_type": "code",
   "execution_count": 41,
   "metadata": {},
   "outputs": [],
   "source": [
    "import qca\n",
    "import core1d\n",
    "import measures\n",
    "from importlib import reload\n",
    "reload(qca)\n",
    "reload(core1d)\n",
    "reload(measures)\n",
    "from qca import QCA"
   ]
  },
  {
   "cell_type": "code",
   "execution_count": 91,
   "metadata": {},
   "outputs": [],
   "source": [
    "der = \"/home/lhillber/documents/research/cellular_automata/qeca/qca/data\"\n",
    "params_template = dict(\n",
    "              L=11,\n",
    "              T=1000.0,\n",
    "              dt=1.0,\n",
    "              R=6,\n",
    "              r=1,\n",
    "              V=\"H\",\n",
    "              BC=\"1-00\",\n",
    "              IC=\"c1_f0\",\n",
    "              E=0.0068,\n",
    "              N=1000,\n",
    "              totalistic=False,\n",
    "              hamiltonian=False,\n",
    "              trotter=True,\n",
    "              symmetric=False)"
   ]
  },
  {
   "cell_type": "code",
   "execution_count": 36,
   "metadata": {},
   "outputs": [],
   "source": [
    "def exponential_fit(x, y):\n",
    "    m, b = np.polyfit(x, np.log(y), deg=1)\n",
    "    def func(x):\n",
    "        return np.exp(b + m*x)\n",
    "    return m, b, func"
   ]
  },
  {
   "cell_type": "code",
   "execution_count": 37,
   "metadata": {},
   "outputs": [],
   "source": [
    "params1 = copy(params_template)\n",
    "params2 = copy(params_template)\n",
    "params2.update({\"E\":0.0, \"N\":1})\n",
    "Q1.close()\n",
    "Q2.close()\n",
    "Q1 = QCA(params1, der=der)\n",
    "Q2 = QCA(params2, der=der)\n",
    "F = Q1.F()\n",
    "CF = Q1.CF(1)"
   ]
  },
  {
   "cell_type": "code",
   "execution_count": 38,
   "metadata": {},
   "outputs": [],
   "source": [
    "Cdiff = 1 - (Q2.C(1)[1:]-Q1.C(1)[1:])/Q2.C(1)[1:]\n",
    "t = Q1.ts[1:]"
   ]
  },
  {
   "cell_type": "code",
   "execution_count": 42,
   "metadata": {},
   "outputs": [
    {
     "data": {
      "image/png": "[encoded data removed]",
      "text/plain": [
       "<Figure size 288x172.8 with 1 Axes>"
      ]
     },
     "metadata": {
      "needs_background": "light"
     },
     "output_type": "display_data"
    }
   ],
   "source": [
    "fig, ax = plt.subplots(1,1, figsize=(4, 2.4))\n",
    "tmax=100\n",
    "x = t[2:tmax]\n",
    "yF = F[2:tmax]\n",
    "yC = CF[2:tmax]\n",
    "mask = yC > 0\n",
    "yCdiff = Cdiff[2:tmax]\n",
    "mF, bF, funcF = exponential_fit(x, yF)\n",
    "mC, bC, funcC = exponential_fit(x[mask], yC[mask])\n",
    "mCdiff, bCdiff, funcCdiff = exponential_fit(x, yCdiff)\n",
    "ax.plot(x, yF, marker=\"o\", ms=2, ls=\"none\", label=\"fidelity\")\n",
    "ax.plot(x, yC, marker=\"o\", ms=2, ls=\"none\", label=\"clustering-fidelity\")\n",
    "ax.plot(x, yCdiff, marker=\"o\", ms=2, ls=\"none\", label=\"clustering-diff\")\n",
    "ax.plot(x, funcF(x), c=\"k\", ls=\"--\")\n",
    "ax.plot(x, funcC(x), c=\"k\", ls=\"--\")\n",
    "ax.plot(x, funcCdiff(x), c=\"k\", ls=\"--\")\n",
    "#ax.text(55, 2.5e-1, f\"t0 = {np.round(mF,3)}\")\n",
    "#ax.text(45, 1e-2, f\"t0 = {np.round(mC,3)}\")\n",
    "#ax.text(65, .8, f\"t0 = {np.round(mCdiff,3)}\")\n",
    "ax.set_ylabel(\"Similarity\")\n",
    "ax.set_xlabel(\"Time, t\")\n",
    "ax.set_yscale(\"log\")\n",
    "ax.legend()\n",
    "plt.savefig(\"similarity_fits.pdf\", bbox_inches=\"tight\")"
   ]
  },
  {
   "cell_type": "code",
   "execution_count": 8,
   "metadata": {},
   "outputs": [
    {
     "name": "stderr",
     "output_type": "stream",
     "text": [
      "<ipython-input-3-1517a17968c2>:2: RuntimeWarning: invalid value encountered in log\n",
      "  m, b = np.polyfit(x, np.log(y), deg=1)\n"
     ]
    },
    {
     "data": {
      "image/png": "[encoded data removed]",
      "text/plain": [
       "<Figure size 288x172.8 with 1 Axes>"
      ]
     },
     "metadata": {
      "needs_background": "light"
     },
     "output_type": "display_data"
    }
   ],
   "source": [
    "fig, ax = plt.subplots(1,1, figsize=(4, 2.4))\n",
    "tmax = 1000\n",
    "x = t[:tmax]\n",
    "yF = F[:tmax]\n",
    "yC = C[:tmax]\n",
    "yY = Y[:tmax]\n",
    "mF, bF, funcF = exponential_fit(x, yF)\n",
    "mC, bC, funcC = exponential_fit(x, yC)\n",
    "mY, bY, funcY = exponential_fit(x, yY)\n",
    "ax.plot(x, yF, marker=\"o\", ms=2, ls=\"none\", label=\"fidelity\")\n",
    "ax.plot(x, yC, marker=\"o\", ms=2, ls=\"none\", label=\"clustering\")\n",
    "ax.plot(x, yY, marker=\"o\", ms=2, ls=\"none\", label=\"disparity\")\n",
    "ax.set_ylabel(\"Similarity\")\n",
    "ax.set_xlabel(\"Time, t\")\n",
    "ax.set_yscale(\"log\")\n",
    "ax.legend()\n",
    "plt.savefig(\"similarity_full-time.pdf\", bbox_inches=\"tight\")"
   ]
  },
  {
   "cell_type": "code",
   "execution_count": null,
   "metadata": {},
   "outputs": [],
   "source": []
  },
  {
   "cell_type": "code",
   "execution_count": 74,
   "metadata": {},
   "outputs": [],
   "source": [
    "from matrix import ops, listkron, commute\n",
    "from core1d import rule_op"
   ]
  },
  {
   "cell_type": "code",
   "execution_count": 75,
   "metadata": {},
   "outputs": [
    {
     "name": "stdout",
     "output_type": "stream",
     "text": [
      "[[1.+0.j 0.+0.j 0.+0.j ... 0.+0.j 0.+0.j 0.+0.j]\n",
      " [0.+0.j 1.+0.j 0.+0.j ... 0.+0.j 0.+0.j 0.+0.j]\n",
      " [0.+0.j 0.+0.j 1.+0.j ... 0.+0.j 0.+0.j 0.+0.j]\n",
      " ...\n",
      " [0.+0.j 0.+0.j 0.+0.j ... 1.+0.j 0.+0.j 0.+0.j]\n",
      " [0.+0.j 0.+0.j 0.+0.j ... 0.+0.j 1.+0.j 0.+0.j]\n",
      " [0.+0.j 0.+0.j 0.+0.j ... 0.+0.j 0.+0.j 1.+0.j]]\n"
     ]
    }
   ],
   "source": [
    "U = rule_op(\"D\", 4, 2, totalistic=True)"
   ]
  },
  {
   "cell_type": "code",
   "execution_count": 76,
   "metadata": {},
   "outputs": [
    {
     "data": {
      "text/plain": [
       "0j"
      ]
     },
     "execution_count": 76,
     "metadata": {},
     "output_type": "execute_result"
    }
   ],
   "source": [
    "np.sum(commute(listkron([U, ops[\"I\"],ops[\"I\"]]),listkron([ops[\"I\"],ops[\"I\"], U])))"
   ]
  },
  {
   "cell_type": "code",
   "execution_count": 190,
   "metadata": {},
   "outputs": [],
   "source": [
    "import qca\n",
    "import core1d\n",
    "import measures\n",
    "from importlib import reload\n",
    "reload(qca)\n",
    "reload(core1d)\n",
    "reload(measures)\n",
    "from qca import QCA\n",
    "\n",
    "der = \"/home/lhillber/documents/research/cellular_automata/qeca/qca/data\"\n",
    "params_template = dict(\n",
    "              L=19,\n",
    "              T=50000.0,\n",
    "              dt=1.0,\n",
    "              R=14,\n",
    "              r=1,\n",
    "              V=\"H\",\n",
    "              BC=\"0\",\n",
    "              IC=\"c3_f1\",\n",
    "              E=0,\n",
    "              N=1,\n",
    "              totalistic=False,\n",
    "              hamiltonian=False,\n",
    "              trotter=True,\n",
    "              symmetric=False)"
   ]
  },
  {
   "cell_type": "code",
   "execution_count": 191,
   "metadata": {},
   "outputs": [
    {
     "name": "stdout",
     "output_type": "stream",
     "text": [
      "\n",
      "================================================================================\n",
      "10 January 2021, 21:50:05\n",
      "Updated: 45acf5fd56ece00671dd95a69e20a71f4c552d48\n",
      "    with ['rhoj', 'rhojk', 'ebipart']\n",
      "Parameters: {'L': 19, 'T': 50000.0, 'dt': 1.0, 'R': 14, 'r': 1, 'V': 'H', 'IC': 'c3_f1', 'BC': '0', 'E': 0.0, 'N': 1, 'trotter': True, 'symmetric': False, 'totalistic': False, 'hamiltonian': False}\n",
      "Available data: ['ebipartdata', 'params', 'rhoj', 'rhojk']\n",
      "Total file size: 3067.27 MB\n",
      "Took: 96822.49 s\n",
      "Data at:\n",
      "/home/lhillber/documents/research/cellular_automata/qeca/qca/data/45acf5fd56ece00671dd95a69e20a71f4c552d48.hdf5\n",
      "================================================================================\n",
      "\n"
     ]
    },
    {
     "data": {
      "text/plain": [
       "['ebipartdata', 'params', 'rhoj', 'rhojk']"
      ]
     },
     "execution_count": 191,
     "metadata": {},
     "output_type": "execute_result"
    }
   ],
   "source": [
    "Q=QCA(params_template, der=der)\n",
    "Q.run(tasks=[\"rhoj\",\"rhojk\", \"ebipart\"], recalc=True)\n",
    "Q.available_tasks"
   ]
  },
  {
   "cell_type": "code",
   "execution_count": 171,
   "metadata": {},
   "outputs": [],
   "source": [
    "import os\n",
    "os.remove(\"/home/lhillber/documents/research/cellular_automata/qeca/qca/data/af323fca2ea3eb9fc8b0b2c4f45a3b8c40138b9f.hdf5\")"
   ]
  },
  {
   "cell_type": "code",
   "execution_count": 189,
   "metadata": {},
   "outputs": [
    {
     "data": {
      "text/plain": [
       "<AxesSubplot:xlabel='Cut $\\\\ell$', ylabel='Time $t$'>"
      ]
     },
     "execution_count": 189,
     "metadata": {},
     "output_type": "execute_result"
    },
    {
     "data": {
      "image/png": "[encoded data removed]",
      "text/plain": [
       "<Figure size 432x288 with 2 Axes>"
      ]
     },
     "metadata": {
      "needs_background": "light"
     },
     "output_type": "display_data"
    }
   ],
   "source": [
    "Q.plot(\"sbipart_2\", tmin=9990, tmax=10000)"
   ]
  },
  {
   "cell_type": "code",
   "execution_count": 181,
   "metadata": {},
   "outputs": [
    {
     "data": {
      "text/plain": [
       "2.4305555555555554"
      ]
     },
     "execution_count": 181,
     "metadata": {},
     "output_type": "execute_result"
    }
   ],
   "source": []
  },
  {
   "cell_type": "code",
   "execution_count": 149,
   "metadata": {},
   "outputs": [
    {
     "data": {
      "image/png": "[encoded data removed]",
      "text/plain": [
       "<Figure size 225x165.6 with 1 Axes>"
      ]
     },
     "metadata": {
      "needs_background": "light"
     },
     "output_type": "display_data"
    }
   ],
   "source": [
    "from figures import colors\n",
    "t0=10\n",
    "xs = np.linspace(0,11,75)\n",
    "x, y = Q.ts[1:t0],(Q.sbisect(order=2))[1:t0]\n",
    "m, b = np.polyfit(x,y,1)\n",
    "\n",
    "fig, ax = plt.subplots(1,1, figsize=(3.125,2.3))\n",
    "ax.plot(Q.ts[:25],(Q.sbisect(order=2))[:25],\n",
    "        marker=\"o\", c=colors[14], ms=3, lw=1)\n",
    "ax.plot(xs, m*xs+b, c=\"k\")\n",
    "\n",
    "ax.set_ylabel(r\"Order 2 R\\`enyi entropy\"+\"\\n of center cut\")\n",
    "ax.set_xlabel(r\"Time\")\n",
    "ax.set_title(\"Rule $T_{14}$\")\n",
    "ax.text(6, 1.5, f\"slope: {round(m,2)}\")\n",
    "plt.subplots_adjust(left=0.16, bottom=0.18, right=0.98)\n",
    "plt.savefig(\"figures/rule-14_balistic-entropy.pdf\")"
   ]
  },
  {
   "cell_type": "code",
   "execution_count": 155,
   "metadata": {},
   "outputs": [
    {
     "name": "stderr",
     "output_type": "stream",
     "text": [
      "<ipython-input-155-8fe2123bf987>:2: RuntimeWarning: invalid value encountered in true_divide\n",
      "  ax.plot(Q.ts[1:10],(Q.sbisect(order=2)/(m*Q.ts))[1:10],\n"
     ]
    },
    {
     "data": {
      "text/plain": [
       "[<matplotlib.lines.Line2D at 0x7f37a83fde50>]"
      ]
     },
     "execution_count": 155,
     "metadata": {},
     "output_type": "execute_result"
    },
    {
     "data": {
      "image/png": "[encoded data removed]",
      "text/plain": [
       "<Figure size 225x165.6 with 1 Axes>"
      ]
     },
     "metadata": {
      "needs_background": "light"
     },
     "output_type": "display_data"
    }
   ],
   "source": [
    "\n",
    "fig, ax = plt.subplots(1,1, figsize=(3.125,2.3))\n",
    "ax.plot(Q.ts[1:10],(Q.sbisect(order=2)/(m*Q.ts))[1:10],\n",
    "        marker=\"o\", c=colors[14], ms=3, lw=1)\n",
    "\n"
   ]
  },
  {
   "cell_type": "code",
   "execution_count": 197,
   "metadata": {},
   "outputs": [
    {
     "data": {
      "image/png": "[encoded data removed]",
      "text/plain": [
       "<Figure size 432x288 with 1 Axes>"
      ]
     },
     "metadata": {
      "needs_background": "light"
     },
     "output_type": "display_data"
    }
   ],
   "source": [
    "ax = Q.plot(\"sbisect_1\")\n",
    "ax.set_xscale(\"log\")\n",
    "ax.set_yscale(\"log\")"
   ]
  },
  {
   "cell_type": "code",
   "execution_count": 164,
   "metadata": {},
   "outputs": [
    {
     "name": "stdout",
     "output_type": "stream",
     "text": [
      "file size (MB): 4243.69\n"
     ]
    },
    {
     "data": {
      "text/plain": [
       "4243.69385"
      ]
     },
     "execution_count": 164,
     "metadata": {},
     "output_type": "execute_result"
    }
   ],
   "source": [
    "Q.file_size()"
   ]
  },
  {
   "cell_type": "code",
   "execution_count": 42,
   "metadata": {},
   "outputs": [],
   "source": [
    "from qca import defaults"
   ]
  },
  {
   "cell_type": "code",
   "execution_count": 51,
   "metadata": {},
   "outputs": [],
   "source": [
    "der = \"/home/lhillber/documents/research/cellular_automata/qeca/qca/data\"\n",
    "params_template = dict(\n",
    "              L=16,\n",
    "              T=100.0,\n",
    "              dt=1.0,\n",
    "              R=6,\n",
    "              r=1,\n",
    "              V=\"H\",\n",
    "              BC=\"0\",\n",
    "              IC=\"c3_f1_p0-t90\",\n",
    "              E=0,\n",
    "              N=1,\n",
    "              totalistic=False,\n",
    "              hamiltonian=False,\n",
    "              trotter=True,\n",
    "              symmetric=False)"
   ]
  },
  {
   "cell_type": "code",
   "execution_count": 52,
   "metadata": {},
   "outputs": [
    {
     "name": "stdout",
     "output_type": "stream",
     "text": [
      "\n",
      "================================================================================\n",
      "11 January 2021, 15:05:42\n",
      "Updated: 24bffeb7af782b9ea987d8de0041e45757feb708\n",
      "    with ['rhoj', 'rhojk']\n",
      "Parameters: {'L': 16, 'T': 100.0, 'dt': 1.0, 'R': 6, 'r': 1, 'V': 'H', 'IC': 'c3_f1_p0-t90', 'BC': '0', 'E': 0.0, 'N': 1, 'trotter': True, 'symmetric': False, 'totalistic': False, 'hamiltonian': False}\n",
      "Available data: ['params', 'rhoj', 'rhojk']\n",
      "Total file size: 3.21 MB\n",
      "Took: 15.19 s\n",
      "Data at:\n",
      "/home/lhillber/documents/research/cellular_automata/qeca/qca/data/24bffeb7af782b9ea987d8de0041e45757feb708.hdf5\n",
      "================================================================================\n",
      "\n"
     ]
    }
   ],
   "source": [
    "Q = QCA(params_template, der=der)\n",
    "#Q.close()\n",
    "Q.run(tasks=[\"rhoj\", \"rhojk\"])"
   ]
  },
  {
   "cell_type": "code",
   "execution_count": 56,
   "metadata": {},
   "outputs": [
    {
     "data": {
      "text/plain": [
       "<AxesSubplot:xlabel='Time $t$', ylabel='$\\\\mathcal{C}^{(1)}$'>"
      ]
     },
     "execution_count": 56,
     "metadata": {},
     "output_type": "execute_result"
    },
    {
     "data": {
      "image/png": "[encoded data removed]",
      "text/plain": [
       "<Figure size 432x288 with 1 Axes>"
      ]
     },
     "metadata": {
      "needs_background": "light"
     },
     "output_type": "display_data"
    }
   ],
   "source": [
    "Q.plot(\"C_1\")"
   ]
  },
  {
   "cell_type": "code",
   "execution_count": null,
   "metadata": {},
   "outputs": [],
   "source": []
  },
  {
   "cell_type": "code",
   "execution_count": null,
   "metadata": {},
   "outputs": [],
   "source": []
  }
 ],
 "metadata": {
  "kernelspec": {
   "display_name": "Python 3",
   "language": "python",
   "name": "python3"
  },
  "language_info": {
   "codemirror_mode": {
    "name": "ipython",
    "version": 3
   },
   "file_extension": ".py",
   "mimetype": "text/x-python",
   "name": "python",
   "nbconvert_exporter": "python",
   "pygments_lexer": "ipython3",
   "version": "3.9.2"
  },
  "toc": {
   "base_numbering": 1,
   "nav_menu": {},
   "number_sections": true,
   "sideBar": true,
   "skip_h1_title": false,
   "title_cell": "Table of Contents",
   "title_sidebar": "Contents",
   "toc_cell": false,
   "toc_position": {},
   "toc_section_display": true,
   "toc_window_display": false
  }
 },
 "nbformat": 4,
 "nbformat_minor": 4
}
