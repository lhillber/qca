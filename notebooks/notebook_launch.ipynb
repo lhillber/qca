{
 "cells": [
  {
   "cell_type": "code",
   "execution_count": null,
   "metadata": {},
   "outputs": [
    {
     "name": "stdout",
     "output_type": "stream",
     "text": [
      "40\n"
     ]
    },
    {
     "name": "stderr",
     "output_type": "stream",
     "text": [
      "/home/lhillber/.local/lib/python3.9/site-packages/joblib/externals/loky/process_executor.py:688: UserWarning: A worker stopped while some jobs were given to the executor. This can be caused by a too short worker timeout or by a memory leak.\n",
      "  warnings.warn(\n"
     ]
    }
   ],
   "source": [
    "import sys\n",
    "sys.path.append(\"../\")  # look one directory up for qca modules, TODO: make a package\n",
    "from copy import copy\n",
    "from qca import QCA, QCA_from_file, main_from_params_list\n",
    "import numpy as np\n",
    "der = r\"/home/lhillber/documents/research/cellular_automata/qeca/qca/data/\"\n",
    "\n",
    "run = True\n",
    "\n",
    "\n",
    "#Ls = list(range(6, 19))\n",
    "Ls= list(range(16, 20))\n",
    "Rs = [6, 1, 14, 4, 26]\n",
    "ICs = [(\"c3_f1\", \"c3_f0-2\"), \"R123\"]\n",
    "\n",
    "\n",
    "params_template = dict(\n",
    "              T=10000.0,\n",
    "              dt=1.0,\n",
    "              r=1,\n",
    "              V=\"H\",\n",
    "              BC=\"1-00\",\n",
    "              E=0.0,\n",
    "              N=1,\n",
    "              totalistic=False,\n",
    "              hamiltonian=False,\n",
    "              trotter=True,\n",
    "              symmetric=False)\n",
    "\n",
    "Hparams_template = dict(\n",
    "              T=10000.0,\n",
    "              dt=0.1,\n",
    "              r=2,\n",
    "              V=\"X\",\n",
    "              BC=\"1-0000\",\n",
    "              E=0.0,\n",
    "              N=1,\n",
    "              totalistic=True,\n",
    "              hamiltonian=True,\n",
    "              trotter=True,\n",
    "              symmetric=True)\n",
    "\n",
    "\n",
    "params_list = []\n",
    "Qs = np.zeros((len(ICs), len(Rs), len(Ls)), dtype=\"object\")\n",
    "for ICi, IC in enumerate(ICs):\n",
    "    for Ri, R in enumerate(Rs):\n",
    "        for Li, L in enumerate(Ls):\n",
    "            if R in (4, 26):\n",
    "                params = copy(Hparams_template)\n",
    "                ICj = 1        \n",
    "            else:\n",
    "                params = copy(params_template)\n",
    "                ICj = 0\n",
    "            if ICi == 0:\n",
    "                IC = ICs[ICi][ICj]\n",
    "            params[\"R\"] = R\n",
    "            params[\"L\"] = L\n",
    "            params[\"IC\"] = IC\n",
    "            params_list.append(params)\n",
    "            if not run:\n",
    "                Q = QCA(params, der=der)\n",
    "                Qs[ICi, Ri, Li] = Q\n",
    "                \n",
    "print(len(params_list))           \n",
    "if run:\n",
    "    main_from_params_list(params_list, \n",
    "                          tasks=[\"rhoj\", \"rhojk\", \"ebipart\"], \n",
    "                          der=der, \n",
    "                          nprocs=4,\n",
    "                          recalc=False)"
   ]
  },
  {
   "cell_type": "code",
   "execution_count": null,
   "metadata": {},
   "outputs": [],
   "source": []
  }
 ],
 "metadata": {
  "kernelspec": {
   "display_name": "Python 3",
   "language": "python",
   "name": "python3"
  },
  "language_info": {
   "codemirror_mode": {
    "name": "ipython",
    "version": 3
   },
   "file_extension": ".py",
   "mimetype": "text/x-python",
   "name": "python",
   "nbconvert_exporter": "python",
   "pygments_lexer": "ipython3",
   "version": "3.9.1"
  },
  "toc": {
   "base_numbering": 1,
   "nav_menu": {},
   "number_sections": true,
   "sideBar": true,
   "skip_h1_title": false,
   "title_cell": "Table of Contents",
   "title_sidebar": "Contents",
   "toc_cell": false,
   "toc_position": {},
   "toc_section_display": true,
   "toc_window_display": false
  }
 },
 "nbformat": 4,
 "nbformat_minor": 4
}
