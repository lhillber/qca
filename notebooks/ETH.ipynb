{
 "cells": [
  {
   "cell_type": "code",
   "execution_count": 8,
   "metadata": {},
   "outputs": [],
   "source": [
    "import sys\n",
    "sys.path.append(\"../\")  # look one directory up for qca modules, TODO: make a package\n",
    "from copy import copy\n",
    "from qca import QCA\n",
    "from states import make_state\n",
    "from mpl_toolkits import mplot3d\n",
    "from matplotlib import cm\n",
    "from scipy.optimize import curve_fit\n",
    "from os import makedirs\n",
    "import matplotlib.pyplot as plt\n",
    "import measures as ms\n",
    "import numpy as np\n",
    "%matplotlib inline\n",
    "der=r\"/home/lhillber/documents/research/cellular_automata/qca/data/\""
   ]
  },
  {
   "cell_type": "code",
   "execution_count": 9,
   "metadata": {},
   "outputs": [],
   "source": [
    "import qca\n",
    "import core\n",
    "import matrix\n",
    "from importlib import reload\n",
    "reload(qca)\n",
    "reload(core)\n",
    "reload(matrix)\n",
    "from qca import QCA"
   ]
  },
  {
   "cell_type": "code",
   "execution_count": 3,
   "metadata": {},
   "outputs": [
    {
     "name": "stdout",
     "output_type": "stream",
     "text": [
      "Running\n",
      "{'L': 15, 'T': 100.0, 'dt': 1.0, 'R': 6, 'r': 1, 'V': 'H', 'IC': 'c1_f0', 'BC': '1-00', 'E': 0.0, 'N': 1, 'trotter': True, 'symmetric': False, 'totalistic': False, 'hamiltonian': False}\n",
      "Running\n",
      "{'L': 15, 'T': 100.0, 'dt': 1.0, 'R': 6, 'r': 1, 'V': 'H', 'IC': 'c1_f0', 'BC': '1-00', 'E': 0.0, 'N': 1, 'trotter': True, 'symmetric': False, 'totalistic': False, 'hamiltonian': False}\n"
     ]
    }
   ],
   "source": [
    "params_template = dict(\n",
    "              L=15,\n",
    "              T=100.0,\n",
    "              dt=1.0,\n",
    "              R=6,\n",
    "              r=1,\n",
    "              V=\"H\",\n",
    "              BC=\"1-00\",\n",
    "              IC=\"c1_f0\",\n",
    "              E=0.0,\n",
    "              N=1,\n",
    "              totalistic=False,\n",
    "              hamiltonian=False,\n",
    "              trotter=True,\n",
    "              symmetric=False)\n",
    "\n",
    "params = copy(params_template) \n",
    "\n",
    "Q = QCA(params, der=der)\n",
    "    \n",
    "Q.run(tasks=[\"rhoj\", \"rhojk\"], verbose=False)"
   ]
  },
  {
   "cell_type": "code",
   "execution_count": 4,
   "metadata": {},
   "outputs": [
    {
     "data": {
      "text/plain": [
       "[<matplotlib.lines.Line2D at 0x7f3890cc3220>]"
      ]
     },
     "execution_count": 4,
     "metadata": {},
     "output_type": "execute_result"
    },
    {
     "data": {
      "image/png": "[encoded data removed]",
      "text/plain": [
       "<Figure size 432x288 with 1 Axes>"
      ]
     },
     "metadata": {
      "needs_background": "light"
     },
     "output_type": "display_data"
    }
   ],
   "source": [
    "plt.plot(Q.Y(1)[:60])\n",
    "plt.plot(Q.C(1)[:60])"
   ]
  },
  {
   "cell_type": "code",
   "execution_count": 2,
   "metadata": {},
   "outputs": [],
   "source": [
    "import sys\n",
    "sys.path.append(\"../\")  # look one directory up for qca modules, TODO: make a package\n",
    "import qca\n",
    "import core\n",
    "import matrix\n",
    "from importlib import reload\n",
    "reload(qca)\n",
    "reload(core)\n",
    "reload(matrix)\n",
    "from qca import QCA\n",
    "\n",
    "from states import make_state\n",
    "from matrix import rdm, ptranspose\n"
   ]
  },
  {
   "cell_type": "code",
   "execution_count": 3,
   "metadata": {},
   "outputs": [],
   "source": [
    "from matrix import listkron\n",
    "from core1d import rule_hamiltonian\n",
    "from numpy.linalg import eigh\n",
    "from scipy.linalg import expm\n",
    "from measures import get_expectation, get_rhoj, expectation\n",
    "from matrix import ops\n",
    "\n",
    "\n",
    "H = rule_hamiltonian(V=\"X\", R=5, L=6, r=1, BC=\"0\")\n",
    "initstate = make_state(6, \"f2\")\n",
    "vals, vecs  = eigh(H)\n"
   ]
  },
  {
   "cell_type": "code",
   "execution_count": null,
   "metadata": {},
   "outputs": [],
   "source": []
  },
  {
   "cell_type": "code",
   "execution_count": 10,
   "metadata": {},
   "outputs": [],
   "source": [
    "L=10\n",
    "H = rule_hamiltonian(V=\"X\", R=1, L=L, r=1, BC=\"0\")\n",
    "vals, vecs  = eigh(H)\n",
    "\n"
   ]
  },
  {
   "cell_type": "code",
   "execution_count": 44,
   "metadata": {},
   "outputs": [
    {
     "name": "stdout",
     "output_type": "stream",
     "text": [
      "-0.26369311224743586 0.002058499097625141 0.0010185145471689576\n"
     ]
    }
   ],
   "source": [
    "initstate = make_state(L, \"d2\")\n",
    "initstate_eng = np.dot(np.conj(vecs).T, initstate)\n",
    "\n",
    "Astr = [\"I\"]*L\n",
    "for d in [0, 1]:\n",
    "    Astr[int(L/2)+d] = \"Z\"\n",
    "A = matrix.listkron([matrix.ops[op] for op in Astr])\n",
    "\n",
    "Aeng = (vecs.T).dot(A).dot(vecs)\n",
    "\n",
    "diag = sum(np.abs(C)**2 * Aeng[a,a] for a, C in enumerate(initstate_eng)).real\n",
    "\n",
    "\n",
    "E0 =np.sum(vals*np.abs(initstate_eng)**2)\n",
    "dE = np.sqrt(np.sum((vals-E0)**2*np.abs(initstate_eng)**2))\n",
    "\n",
    "microcanon = np.mean([Aeng[a,a]\n",
    "                        for a, Ea in enumerate(vals) \n",
    "                            if np.abs(Ea-E0)<=dE]).real \n",
    "\n",
    "ebH = expm(-H/dE)\n",
    "part = np.trace(ebH)\n",
    "thstate = ebH / part\n",
    "canonical = expectation(thstate, A)\n",
    "\n",
    "print(diag, microcanon, canonical)\n"
   ]
  },
  {
   "cell_type": "code",
   "execution_count": 33,
   "metadata": {},
   "outputs": [],
   "source": []
  },
  {
   "cell_type": "code",
   "execution_count": 34,
   "metadata": {},
   "outputs": [
    {
     "data": {
      "text/plain": [
       "2.2360679774997894"
      ]
     },
     "execution_count": 34,
     "metadata": {},
     "output_type": "execute_result"
    }
   ],
   "source": [
    "dE"
   ]
  },
  {
   "cell_type": "code",
   "execution_count": 35,
   "metadata": {},
   "outputs": [
    {
     "data": {
      "text/plain": [
       "array([0.01      , 0.3271749 , 0.64434981, 0.96152471, 1.27869961,\n",
       "       1.59587452, 1.91304942, 2.23022433, 2.54739923, 2.86457413,\n",
       "       3.18174904, 3.49892394, 3.81609884, 4.13327375, 4.45044865,\n",
       "       4.76762355, 5.08479846, 5.40197336, 5.71914827, 6.03632317])"
      ]
     },
     "execution_count": 35,
     "metadata": {},
     "output_type": "execute_result"
    }
   ],
   "source": [
    "dEs"
   ]
  },
  {
   "cell_type": "code",
   "execution_count": 37,
   "metadata": {},
   "outputs": [
    {
     "data": {
      "text/plain": [
       "<matplotlib.lines.Line2D at 0x7f1f8c1e45b0>"
      ]
     },
     "execution_count": 37,
     "metadata": {},
     "output_type": "execute_result"
    },
    {
     "data": {
      "image/png": "[encoded data removed]",
      "text/plain": [
       "<Figure size 432x288 with 1 Axes>"
      ]
     },
     "metadata": {
      "needs_background": "light"
     },
     "output_type": "display_data"
    }
   ],
   "source": [
    "plt.plot(dEs, canonicals, marker=\"o\")\n",
    "plt.plot(dEs, -np.array(microcanons), marker=\"v\")\n",
    "plt.axhline(diag, c=\"k\")\n",
    "#plt.xscale(\"log\")"
   ]
  },
  {
   "cell_type": "code",
   "execution_count": 41,
   "metadata": {},
   "outputs": [
    {
     "data": {
      "text/plain": [
       "[<matplotlib.lines.Line2D at 0x7f1f8c12a400>]"
      ]
     },
     "execution_count": 41,
     "metadata": {},
     "output_type": "execute_result"
    },
    {
     "data": {
      "image/png": "[encoded data removed]",
      "text/plain": [
       "<Figure size 432x288 with 1 Axes>"
      ]
     },
     "metadata": {
      "needs_background": "light"
     },
     "output_type": "display_data"
    }
   ],
   "source": [
    "plt.loglog(np.array(canonicals)+np.array(microcanons))"
   ]
  },
  {
   "cell_type": "code",
   "execution_count": null,
   "metadata": {},
   "outputs": [],
   "source": []
  },
  {
   "cell_type": "code",
   "execution_count": 23,
   "metadata": {},
   "outputs": [
    {
     "data": {
      "image/png": "[encoded data removed]",
      "text/plain": [
       "<Figure size 432x288 with 1 Axes>"
      ]
     },
     "metadata": {
      "needs_background": "light"
     },
     "output_type": "display_data"
    }
   ],
   "source": [
    "plt.hist(np.abs(np.diff(np.diag(Aeng))).real, bins=50)\n",
    "plt.yscale(\"log\")"
   ]
  },
  {
   "cell_type": "code",
   "execution_count": 20,
   "metadata": {},
   "outputs": [
    {
     "data": {
      "text/plain": [
       "(array([3.12000e+02, 1.60000e+01, 8.90000e+01, 9.25000e+02, 1.30415e+05,\n",
       "        4.65665e+05, 9.88000e+02, 2.92000e+02, 7.60000e+01, 1.16000e+02]),\n",
       " array([-1.00000000e+00, -8.00000000e-01, -6.00000000e-01, -4.00000000e-01,\n",
       "        -2.00000000e-01, -6.66133815e-16,  2.00000000e-01,  4.00000000e-01,\n",
       "         6.00000000e-01,  8.00000000e-01,  1.00000000e+00]),\n",
       " <BarContainer object of 10 artists>)"
      ]
     },
     "execution_count": 20,
     "metadata": {},
     "output_type": "execute_result"
    },
    {
     "data": {
      "image/png": "[encoded data removed]",
      "text/plain": [
       "<Figure size 432x288 with 1 Axes>"
      ]
     },
     "metadata": {
      "needs_background": "light"
     },
     "output_type": "display_data"
    }
   ],
   "source": [
    "plt.hist(Aeng[Aeng!=0].real)"
   ]
  },
  {
   "cell_type": "code",
   "execution_count": null,
   "metadata": {},
   "outputs": [],
   "source": []
  }
 ],
 "metadata": {
  "kernelspec": {
   "display_name": "Python 3",
   "language": "python",
   "name": "python3"
  },
  "language_info": {
   "codemirror_mode": {
    "name": "ipython",
    "version": 3
   },
   "file_extension": ".py",
   "mimetype": "text/x-python",
   "name": "python",
   "nbconvert_exporter": "python",
   "pygments_lexer": "ipython3",
   "version": "3.9.2"
  },
  "toc": {
   "base_numbering": 1,
   "nav_menu": {},
   "number_sections": true,
   "sideBar": true,
   "skip_h1_title": false,
   "title_cell": "Table of Contents",
   "title_sidebar": "Contents",
   "toc_cell": false,
   "toc_position": {},
   "toc_section_display": true,
   "toc_window_display": false
  }
 },
 "nbformat": 4,
 "nbformat_minor": 4
}
